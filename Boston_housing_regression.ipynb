{
 "cells": [
  {
   "cell_type": "code",
   "execution_count": 1,
   "id": "tracked-solomon",
   "metadata": {},
   "outputs": [],
   "source": [
    "from sklearn.datasets import load_boston\n",
    "import numpy as np\n",
    "\n",
    "from sklearn.linear_model import LinearRegression\n",
    "from sklearn.linear_model import Ridge\n",
    "\n",
    "\n",
    "from sklearn.model_selection import cross_val_score\n",
    "from sklearn.model_selection import GridSearchCV"
   ]
  },
  {
   "cell_type": "markdown",
   "id": "rocky-humanity",
   "metadata": {},
   "source": [
    "**Load Dataset**"
   ]
  },
  {
   "cell_type": "code",
   "execution_count": 2,
   "id": "ceramic-bubble",
   "metadata": {},
   "outputs": [],
   "source": [
    "boston = load_boston()"
   ]
  },
  {
   "cell_type": "markdown",
   "id": "smooth-packaging",
   "metadata": {},
   "source": [
    "Description of Dataset"
   ]
  },
  {
   "cell_type": "code",
   "execution_count": 3,
   "id": "lyric-testimony",
   "metadata": {},
   "outputs": [
    {
     "data": {
      "text/plain": [
       "\".. _boston_dataset:\\n\\nBoston house prices dataset\\n---------------------------\\n\\n**Data Set Characteristics:**  \\n\\n    :Number of Instances: 506 \\n\\n    :Number of Attributes: 13 numeric/categorical predictive. Median Value (attribute 14) is usually the target.\\n\\n    :Attribute Information (in order):\\n        - CRIM     per capita crime rate by town\\n        - ZN       proportion of residential land zoned for lots over 25,000 sq.ft.\\n        - INDUS    proportion of non-retail business acres per town\\n        - CHAS     Charles River dummy variable (= 1 if tract bounds river; 0 otherwise)\\n        - NOX      nitric oxides concentration (parts per 10 million)\\n        - RM       average number of rooms per dwelling\\n        - AGE      proportion of owner-occupied units built prior to 1940\\n        - DIS      weighted distances to five Boston employment centres\\n        - RAD      index of accessibility to radial highways\\n        - TAX      full-value property-tax rate per $10,000\\n        - PTRATIO  pupil-teacher ratio by town\\n        - B        1000(Bk - 0.63)^2 where Bk is the proportion of blacks by town\\n        - LSTAT    % lower status of the population\\n        - MEDV     Median value of owner-occupied homes in $1000's\\n\\n    :Missing Attribute Values: None\\n\\n    :Creator: Harrison, D. and Rubinfeld, D.L.\\n\\nThis is a copy of UCI ML housing dataset.\\nhttps://archive.ics.uci.edu/ml/machine-learning-databases/housing/\\n\\n\\nThis dataset was taken from the StatLib library which is maintained at Carnegie Mellon University.\\n\\nThe Boston house-price data of Harrison, D. and Rubinfeld, D.L. 'Hedonic\\nprices and the demand for clean air', J. Environ. Economics & Management,\\nvol.5, 81-102, 1978.   Used in Belsley, Kuh & Welsch, 'Regression diagnostics\\n...', Wiley, 1980.   N.B. Various transformations are used in the table on\\npages 244-261 of the latter.\\n\\nThe Boston house-price data has been used in many machine learning papers that address regression\\nproblems.   \\n     \\n.. topic:: References\\n\\n   - Belsley, Kuh & Welsch, 'Regression diagnostics: Identifying Influential Data and Sources of Collinearity', Wiley, 1980. 244-261.\\n   - Quinlan,R. (1993). Combining Instance-Based and Model-Based Learning. In Proceedings on the Tenth International Conference of Machine Learning, 236-243, University of Massachusetts, Amherst. Morgan Kaufmann.\\n\""
      ]
     },
     "execution_count": 3,
     "metadata": {},
     "output_type": "execute_result"
    }
   ],
   "source": [
    "boston.DESCR"
   ]
  },
  {
   "cell_type": "markdown",
   "id": "latter-argentina",
   "metadata": {},
   "source": [
    "**Create feature matrix & target vector**"
   ]
  },
  {
   "cell_type": "code",
   "execution_count": 4,
   "id": "documented-implementation",
   "metadata": {},
   "outputs": [
    {
     "data": {
      "text/plain": [
       "((506, 13), (506,))"
      ]
     },
     "execution_count": 4,
     "metadata": {},
     "output_type": "execute_result"
    }
   ],
   "source": [
    "X = boston.data\n",
    "y = boston.target\n",
    "X.shape, y.shape"
   ]
  },
  {
   "cell_type": "markdown",
   "id": "sized-lounge",
   "metadata": {},
   "source": [
    "Range of target variable"
   ]
  },
  {
   "cell_type": "code",
   "execution_count": 5,
   "id": "multiple-honey",
   "metadata": {},
   "outputs": [
    {
     "data": {
      "text/plain": [
       "45.0"
      ]
     },
     "execution_count": 5,
     "metadata": {},
     "output_type": "execute_result"
    }
   ],
   "source": [
    "ran = np.max(y) - np.min(y)\n",
    "np.max(y) - np.min(y)"
   ]
  },
  {
   "cell_type": "markdown",
   "id": "subsequent-cyprus",
   "metadata": {},
   "source": [
    "**Create model instances**"
   ]
  },
  {
   "cell_type": "code",
   "execution_count": 6,
   "id": "republican-jacksonville",
   "metadata": {},
   "outputs": [],
   "source": [
    "linreg = LinearRegression()\n",
    "ridge = Ridge()"
   ]
  },
  {
   "cell_type": "markdown",
   "id": "seventh-flush",
   "metadata": {},
   "source": [
    "**Cross validate linear regression model (OLS)**"
   ]
  },
  {
   "cell_type": "code",
   "execution_count": 7,
   "id": "minute-butter",
   "metadata": {},
   "outputs": [
    {
     "data": {
      "text/plain": [
       "4.249968544192538"
      ]
     },
     "execution_count": 7,
     "metadata": {},
     "output_type": "execute_result"
    }
   ],
   "source": [
    "scores = cross_val_score(linreg, X, y, cv= 5, scoring= 'neg_mean_absolute_error')\n",
    "error_lr = -scores.mean()\n",
    "-scores.mean()"
   ]
  },
  {
   "cell_type": "markdown",
   "id": "stylish-draft",
   "metadata": {},
   "source": [
    "**Search (exhaustive) through the different parameter combination of Ridge regressior**"
   ]
  },
  {
   "cell_type": "markdown",
   "id": "disturbed-sharing",
   "metadata": {},
   "source": [
    "Dictionary: parameters are keys and their possible values are values"
   ]
  },
  {
   "cell_type": "code",
   "execution_count": 8,
   "id": "unsigned-mounting",
   "metadata": {},
   "outputs": [],
   "source": [
    "params = {\n",
    "    'alpha': [1.0, 0.95, 0.9, 0.85, 0.80, 0.75],\n",
    "    'solver': ['svd', 'cholesky', 'lsqr', 'sparse_cg', 'sag', 'saga']\n",
    "}"
   ]
  },
  {
   "cell_type": "markdown",
   "id": "normal-mapping",
   "metadata": {},
   "source": [
    "Grid Search instance"
   ]
  },
  {
   "cell_type": "code",
   "execution_count": 9,
   "id": "laden-disposal",
   "metadata": {},
   "outputs": [],
   "source": [
    "grid = GridSearchCV(ridge, params, cv= 5, scoring= 'neg_mean_absolute_error')"
   ]
  },
  {
   "cell_type": "markdown",
   "id": "specific-relative",
   "metadata": {},
   "source": [
    "Fit the grid search object"
   ]
  },
  {
   "cell_type": "code",
   "execution_count": 10,
   "id": "personalized-showcase",
   "metadata": {},
   "outputs": [
    {
     "data": {
      "text/plain": [
       "GridSearchCV(cv=5, estimator=Ridge(),\n",
       "             param_grid={'alpha': [1.0, 0.95, 0.9, 0.85, 0.8, 0.75],\n",
       "                         'solver': ['svd', 'cholesky', 'lsqr', 'sparse_cg',\n",
       "                                    'sag', 'saga']},\n",
       "             scoring='neg_mean_absolute_error')"
      ]
     },
     "execution_count": 10,
     "metadata": {},
     "output_type": "execute_result"
    }
   ],
   "source": [
    "grid.fit(X, y)"
   ]
  },
  {
   "cell_type": "markdown",
   "id": "stopped-bread",
   "metadata": {},
   "source": [
    "Get the best parameter combination and respective error"
   ]
  },
  {
   "cell_type": "code",
   "execution_count": 11,
   "id": "connected-immune",
   "metadata": {},
   "outputs": [
    {
     "data": {
      "text/plain": [
       "{'alpha': 0.9, 'solver': 'sag'}"
      ]
     },
     "execution_count": 11,
     "metadata": {},
     "output_type": "execute_result"
    }
   ],
   "source": [
    "grid.best_params_"
   ]
  },
  {
   "cell_type": "markdown",
   "id": "present-constitution",
   "metadata": {},
   "source": [
    "The above is the best-performing parameter combination."
   ]
  },
  {
   "cell_type": "code",
   "execution_count": 12,
   "id": "removed-resident",
   "metadata": {},
   "outputs": [
    {
     "data": {
      "text/plain": [
       "3.869848435536432"
      ]
     },
     "execution_count": 12,
     "metadata": {},
     "output_type": "execute_result"
    }
   ],
   "source": [
    "error_rid = -grid.best_score_\n",
    "-grid.best_score_"
   ]
  },
  {
   "cell_type": "markdown",
   "id": "committed-theology",
   "metadata": {},
   "source": [
    "Error as a percentage of range for the 2 models"
   ]
  },
  {
   "cell_type": "code",
   "execution_count": 14,
   "id": "moved-perception",
   "metadata": {},
   "outputs": [
    {
     "name": "stdout",
     "output_type": "stream",
     "text": [
      "Ordinary Least Squares model: 0.094.\n",
      "OLS with l2 regularization model: 0.086.\n"
     ]
    }
   ],
   "source": [
    "print(f'Ordinary Least Squares model: {error_lr/ran:.3f}.\\nOLS with l2 regularization model: {error_rid/ran:.3f}.')"
   ]
  },
  {
   "cell_type": "markdown",
   "id": "dependent-dietary",
   "metadata": {},
   "source": [
    "The least-squares model with l2 regularization outperforms the OLS model, the former model's predicted value on avarage differs by ~3870 USD from the actual values, meanwhile, the latter model is off by ~4250 USD."
   ]
  }
 ],
 "metadata": {
  "kernelspec": {
   "display_name": "Python 3",
   "language": "python",
   "name": "python3"
  },
  "language_info": {
   "codemirror_mode": {
    "name": "ipython",
    "version": 3
   },
   "file_extension": ".py",
   "mimetype": "text/x-python",
   "name": "python",
   "nbconvert_exporter": "python",
   "pygments_lexer": "ipython3",
   "version": "3.8.5"
  }
 },
 "nbformat": 4,
 "nbformat_minor": 5
}
