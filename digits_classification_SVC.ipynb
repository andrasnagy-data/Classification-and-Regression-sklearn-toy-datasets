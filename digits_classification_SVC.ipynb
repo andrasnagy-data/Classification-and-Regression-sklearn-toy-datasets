{
 "cells": [
  {
   "cell_type": "code",
   "execution_count": 1,
   "id": "distinct-reform",
   "metadata": {},
   "outputs": [],
   "source": [
    "import matplotlib.pyplot as plt\n",
    "%matplotlib inline\n",
    "\n",
    "from sklearn.datasets import load_digits\n",
    "\n",
    "from sklearn.svm import SVC\n",
    "\n",
    "from sklearn import metrics\n",
    "from sklearn.model_selection import train_test_split\n",
    "from sklearn.model_selection import GridSearchCV"
   ]
  },
  {
   "cell_type": "markdown",
   "id": "seventh-intellectual",
   "metadata": {},
   "source": [
    "**Load Data set**"
   ]
  },
  {
   "cell_type": "code",
   "execution_count": 2,
   "id": "hindu-international",
   "metadata": {},
   "outputs": [],
   "source": [
    "digits = load_digits()"
   ]
  },
  {
   "cell_type": "code",
   "execution_count": 3,
   "id": "stone-import",
   "metadata": {},
   "outputs": [
    {
     "data": {
      "text/plain": [
       "(1797, 8, 8)"
      ]
     },
     "execution_count": 3,
     "metadata": {},
     "output_type": "execute_result"
    }
   ],
   "source": [
    "digits.images.shape"
   ]
  },
  {
   "cell_type": "code",
   "execution_count": 4,
   "id": "protective-tractor",
   "metadata": {},
   "outputs": [
    {
     "data": {
      "text/plain": [
       "(1797,)"
      ]
     },
     "execution_count": 4,
     "metadata": {},
     "output_type": "execute_result"
    }
   ],
   "source": [
    "digits.target.shape"
   ]
  },
  {
   "cell_type": "markdown",
   "id": "experimental-challenge",
   "metadata": {},
   "source": [
    "Look at the image representation"
   ]
  },
  {
   "cell_type": "code",
   "execution_count": 5,
   "id": "empirical-applicant",
   "metadata": {},
   "outputs": [
    {
     "data": {
      "text/plain": [
       "array([[ 0.,  0.,  5., 13.,  9.,  1.,  0.,  0.],\n",
       "       [ 0.,  0., 13., 15., 10., 15.,  5.,  0.],\n",
       "       [ 0.,  3., 15.,  2.,  0., 11.,  8.,  0.],\n",
       "       [ 0.,  4., 12.,  0.,  0.,  8.,  8.,  0.],\n",
       "       [ 0.,  5.,  8.,  0.,  0.,  9.,  8.,  0.],\n",
       "       [ 0.,  4., 11.,  0.,  1., 12.,  7.,  0.],\n",
       "       [ 0.,  2., 14.,  5., 10., 12.,  0.,  0.],\n",
       "       [ 0.,  0.,  6., 13., 10.,  0.,  0.,  0.]])"
      ]
     },
     "execution_count": 5,
     "metadata": {},
     "output_type": "execute_result"
    }
   ],
   "source": [
    "digits.images[0,:,:]"
   ]
  },
  {
   "cell_type": "markdown",
   "id": "apart-australian",
   "metadata": {},
   "source": [
    "Look at the image"
   ]
  },
  {
   "cell_type": "code",
   "execution_count": 6,
   "id": "efficient-raise",
   "metadata": {},
   "outputs": [
    {
     "data": {
      "image/png": "[encoded data removed]",
      "text/plain": [
       "<Figure size 432x288 with 1 Axes>"
      ]
     },
     "metadata": {
      "needs_background": "light"
     },
     "output_type": "display_data"
    }
   ],
   "source": [
    "plt.imshow(digits.images[0,:,:], cmap= plt.cm.gray_r, interpolation= 'nearest');"
   ]
  },
  {
   "cell_type": "markdown",
   "id": "increasing-kenya",
   "metadata": {},
   "source": [
    "Create X and y (features and targets)"
   ]
  },
  {
   "cell_type": "code",
   "execution_count": 7,
   "id": "hourly-paste",
   "metadata": {},
   "outputs": [
    {
     "data": {
      "text/plain": [
       "((1797, 64), (1797,))"
      ]
     },
     "execution_count": 7,
     "metadata": {},
     "output_type": "execute_result"
    }
   ],
   "source": [
    "n_samples = digits.images.shape[0]\n",
    "X = digits.images.reshape((n_samples, -1))\n",
    "y = digits.target\n",
    "X.shape, y.shape"
   ]
  },
  {
   "cell_type": "markdown",
   "id": "english-entry",
   "metadata": {},
   "source": [
    "Create a small test set to later use it for evaluation"
   ]
  },
  {
   "cell_type": "code",
   "execution_count": 8,
   "id": "ambient-xerox",
   "metadata": {},
   "outputs": [],
   "source": [
    "X_train, X_test, y_train, y_test = train_test_split(X, y, test_size= 0.25, random_state= 42)"
   ]
  },
  {
   "cell_type": "markdown",
   "id": "atlantic-chester",
   "metadata": {},
   "source": [
    "**SVC instance**"
   ]
  },
  {
   "cell_type": "markdown",
   "id": "circular-broadcasting",
   "metadata": {},
   "source": [
    "Below is a small snippet from the SVC documentation. If the dataset was much larger, this model would become infeasible. "
   ]
  },
  {
   "cell_type": "markdown",
   "id": "smooth-native",
   "metadata": {},
   "source": [
    "![title](img/SVC.png)"
   ]
  },
  {
   "cell_type": "code",
   "execution_count": 9,
   "id": "nonprofit-happening",
   "metadata": {},
   "outputs": [],
   "source": [
    "clf = SVC()"
   ]
  },
  {
   "cell_type": "markdown",
   "id": "laughing-might",
   "metadata": {},
   "source": [
    "Dictionary of potential model parameters (Search space that we investigate with Grid Search)"
   ]
  },
  {
   "cell_type": "code",
   "execution_count": 10,
   "id": "continued-montgomery",
   "metadata": {},
   "outputs": [],
   "source": [
    "params = {\n",
    "    'C': [0.1, 1, 10, 100, 1000],  \n",
    "    'gamma': [1, 0.1, 0.01, 0.001, 0.0001], \n",
    "    'kernel': ['linear', 'poly', 'rbf', 'sigmoid']\n",
    "}"
   ]
  },
  {
   "cell_type": "markdown",
   "id": "assumed-municipality",
   "metadata": {},
   "source": [
    "**GridSearch instance**"
   ]
  },
  {
   "cell_type": "code",
   "execution_count": 11,
   "id": "handed-campus",
   "metadata": {},
   "outputs": [],
   "source": [
    "grid = GridSearchCV(clf, params, cv= 5, scoring= 'accuracy')"
   ]
  },
  {
   "cell_type": "markdown",
   "id": "present-sample",
   "metadata": {},
   "source": [
    "Fit the Grid Search object"
   ]
  },
  {
   "cell_type": "code",
   "execution_count": 12,
   "id": "pacific-supply",
   "metadata": {},
   "outputs": [
    {
     "data": {
      "text/plain": [
       "GridSearchCV(cv=5, estimator=SVC(),\n",
       "             param_grid={'C': [0.1, 1, 10, 100, 1000],\n",
       "                         'gamma': [1, 0.1, 0.01, 0.001, 0.0001],\n",
       "                         'kernel': ['linear', 'poly', 'rbf', 'sigmoid']},\n",
       "             scoring='accuracy')"
      ]
     },
     "execution_count": 12,
     "metadata": {},
     "output_type": "execute_result"
    }
   ],
   "source": [
    "grid.fit(X, y)"
   ]
  },
  {
   "cell_type": "markdown",
   "id": "medium-lesson",
   "metadata": {},
   "source": [
    "Check best parameter setting and highest accuracy"
   ]
  },
  {
   "cell_type": "code",
   "execution_count": 13,
   "id": "verified-festival",
   "metadata": {},
   "outputs": [
    {
     "data": {
      "text/plain": [
       "{'C': 1, 'gamma': 0.001, 'kernel': 'rbf'}"
      ]
     },
     "execution_count": 13,
     "metadata": {},
     "output_type": "execute_result"
    }
   ],
   "source": [
    "grid.best_params_"
   ]
  },
  {
   "cell_type": "code",
   "execution_count": 14,
   "id": "chief-verse",
   "metadata": {},
   "outputs": [
    {
     "data": {
      "text/plain": [
       "SVC(C=1, gamma=0.001)"
      ]
     },
     "execution_count": 14,
     "metadata": {},
     "output_type": "execute_result"
    }
   ],
   "source": [
    "grid.best_estimator_"
   ]
  },
  {
   "cell_type": "code",
   "execution_count": 15,
   "id": "inappropriate-difficulty",
   "metadata": {},
   "outputs": [
    {
     "data": {
      "text/plain": [
       "0.9721866295264624"
      ]
     },
     "execution_count": 15,
     "metadata": {},
     "output_type": "execute_result"
    }
   ],
   "source": [
    "grid.best_score_"
   ]
  },
  {
   "cell_type": "markdown",
   "id": "bulgarian-diabetes",
   "metadata": {},
   "source": [
    "The best performing model has a mean accuracy of ~97.22 %."
   ]
  },
  {
   "cell_type": "markdown",
   "id": "clear-wholesale",
   "metadata": {},
   "source": [
    "**Fit SVC instance (with \"best_params_\" of grid search) to get a sense of the errors the model makes**"
   ]
  },
  {
   "cell_type": "code",
   "execution_count": 16,
   "id": "complicated-gather",
   "metadata": {},
   "outputs": [],
   "source": [
    "clf = SVC(gamma= 0.001)\n",
    "\n",
    "clf.fit(X_train, y_train)\n",
    "\n",
    "predicted = clf.predict(X_test)"
   ]
  },
  {
   "cell_type": "code",
   "execution_count": 17,
   "id": "elegant-evans",
   "metadata": {},
   "outputs": [
    {
     "name": "stdout",
     "output_type": "stream",
     "text": [
      "Classification report for model SVC(gamma=0.001):\n",
      "              precision    recall  f1-score   support\n",
      "\n",
      "           0       1.00      1.00      1.00        43\n",
      "           1       1.00      1.00      1.00        37\n",
      "           2       1.00      1.00      1.00        38\n",
      "           3       1.00      0.96      0.98        46\n",
      "           4       1.00      1.00      1.00        55\n",
      "           5       0.97      1.00      0.98        59\n",
      "           6       1.00      1.00      1.00        45\n",
      "           7       0.98      0.98      0.98        41\n",
      "           8       0.97      1.00      0.99        38\n",
      "           9       0.98      0.96      0.97        48\n",
      "\n",
      "    accuracy                           0.99       450\n",
      "   macro avg       0.99      0.99      0.99       450\n",
      "weighted avg       0.99      0.99      0.99       450\n",
      "\n",
      "\n"
     ]
    }
   ],
   "source": [
    "print(\"Classification report for model %s:\\n%s\\n\"\n",
    "      % (clf, metrics.classification_report(y_test, predicted)))"
   ]
  },
  {
   "cell_type": "markdown",
   "id": "stone-combat",
   "metadata": {},
   "source": [
    "The model has a staggering performance, however, the task at hand is known to be solved \"accurately\". The model identifies the labels accurately (accuracy is between 97% and 100%) and rarely misses a label -this information comes from the recall column."
   ]
  },
  {
   "cell_type": "markdown",
   "id": "legitimate-segment",
   "metadata": {},
   "source": [
    "**Visualize test pictures and respective predictions**"
   ]
  },
  {
   "cell_type": "code",
   "execution_count": 18,
   "id": "starting-watch",
   "metadata": {},
   "outputs": [
    {
     "data": {
      "image/png": "[encoded data removed]",
      "text/plain": [
       "<Figure size 432x288 with 4 Axes>"
      ]
     },
     "metadata": {
      "needs_background": "light"
     },
     "output_type": "display_data"
    }
   ],
   "source": [
    "img_and_pred = list(zip(X_test, predicted))\n",
    "\n",
    "for index, (image, prediction) in enumerate(img_and_pred[:4]):\n",
    "    plt.subplot(2, 4, index + 5)\n",
    "    plt.axis('off')\n",
    "    plt.imshow(image.reshape(8, 8), cmap= plt.cm.gray_r, interpolation= 'nearest')\n",
    "    plt.title('Prediction: %i' % prediction)\n",
    "\n",
    "plt.show()"
   ]
  }
 ],
 "metadata": {
  "kernelspec": {
   "display_name": "Python 3",
   "language": "python",
   "name": "python3"
  },
  "language_info": {
   "codemirror_mode": {
    "name": "ipython",
    "version": 3
   },
   "file_extension": ".py",
   "mimetype": "text/x-python",
   "name": "python",
   "nbconvert_exporter": "python",
   "pygments_lexer": "ipython3",
   "version": "3.8.5"
  }
 },
 "nbformat": 4,
 "nbformat_minor": 5
}
